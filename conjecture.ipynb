{
  "nbformat": 4,
  "nbformat_minor": 0,
  "metadata": {
    "colab": {
      "name": "Sedumi Test",
      "provenance": [],
      "collapsed_sections": [],
      "machine_shape": "hm"
    },
    "kernelspec": {
      "name": "python3",
      "display_name": "Python 3"
    },
    "language_info": {
      "name": "python"
    }
  },
  "cells": [
    {
      "cell_type": "code",
      "execution_count": 1,
      "metadata": {
        "colab": {
          "base_uri": "https://localhost:8080/"
        },
        "id": "eh5MqQAiAvY0",
        "outputId": "dcd5eb81-67fe-47c0-8436-50a7fcc1b1e7"
      },
      "outputs": [
        {
          "output_type": "stream",
          "name": "stdout",
          "text": [
            "Collecting cvxpy==1.1.18\n",
            "  Downloading cvxpy-1.1.18-cp37-cp37m-manylinux_2_24_x86_64.whl (2.7 MB)\n",
            "\u001b[K     |████████████████████████████████| 2.7 MB 14.8 MB/s \n",
            "\u001b[?25hRequirement already satisfied: osqp>=0.4.1 in /usr/local/lib/python3.7/dist-packages (from cvxpy==1.1.18) (0.6.2.post0)\n",
            "Requirement already satisfied: scipy>=1.1.0 in /usr/local/lib/python3.7/dist-packages (from cvxpy==1.1.18) (1.4.1)\n",
            "Requirement already satisfied: ecos>=2 in /usr/local/lib/python3.7/dist-packages (from cvxpy==1.1.18) (2.0.10)\n",
            "Requirement already satisfied: scs>=1.1.6 in /usr/local/lib/python3.7/dist-packages (from cvxpy==1.1.18) (3.0.1)\n",
            "Requirement already satisfied: numpy>=1.15 in /usr/local/lib/python3.7/dist-packages (from cvxpy==1.1.18) (1.19.5)\n",
            "Requirement already satisfied: qdldl in /usr/local/lib/python3.7/dist-packages (from osqp>=0.4.1->cvxpy==1.1.18) (0.1.5.post0)\n",
            "Installing collected packages: cvxpy\n",
            "  Attempting uninstall: cvxpy\n",
            "    Found existing installation: cvxpy 1.0.31\n",
            "    Uninstalling cvxpy-1.0.31:\n",
            "      Successfully uninstalled cvxpy-1.0.31\n",
            "Successfully installed cvxpy-1.1.18\n"
          ]
        }
      ],
      "source": [
        "pip install cvxpy==1.1.18"
      ]
    },
    {
      "cell_type": "code",
      "source": [
        "from sympy import *\n",
        "import numpy as np \n",
        "\n",
        "n = 6\n",
        "\n",
        "x1, x2, x3, x4, x5, x6 = symbols('x1 x2 x3 x4 x5 x6', commutative=False)\n",
        "\n",
        "g = (x1 + x2 + x3 + x4 + x5 + x6)\n",
        "\n",
        "beta = ( 1 + g + g**2 ).expand().args "
      ],
      "metadata": {
        "id": "3egra7OKLNY0"
      },
      "execution_count": 2,
      "outputs": []
    },
    {
      "cell_type": "code",
      "source": [
        "gamma = [None] * len(beta)"
      ],
      "metadata": {
        "id": "xnJ0zWxQZSkV"
      },
      "execution_count": 3,
      "outputs": []
    },
    {
      "cell_type": "code",
      "source": [
        "for l in range(len(beta)):\n",
        "    order = beta[l].args \n",
        "\n",
        "    flag = True \n",
        "    for _ in range(len( order) ):\n",
        "        flag = False\n",
        "        if isinstance(order[_], Integer): \n",
        "            flag = True\n",
        "\n",
        "    if not flag:\n",
        "        # revert \n",
        "        gamma[l] = prod( list ( ( order )[::-1] ) )\n",
        "    else:\n",
        "        gamma[l] = beta[l]\n",
        "            "
      ],
      "metadata": {
        "id": "yE3B2DnJaFDz"
      },
      "execution_count": 4,
      "outputs": []
    },
    {
      "cell_type": "code",
      "source": [
        "B1 = [beta[i] * x1 *  gamma[j] for i in range(len(beta)) for j in range(len(beta))]\n",
        "B2 = [beta[i] * x2 *  gamma[j] for i in range(len(beta)) for j in range(len(beta))] \n",
        "B3 = [beta[i] * x3 *  gamma[j] for i in range(len(beta)) for j in range(len(beta))]\n",
        "B4 = [beta[i] * x4 *  gamma[j] for i in range(len(beta)) for j in range(len(beta))]\n",
        "B5 = [beta[i] * x5 *  gamma[j] for i in range(len(beta)) for j in range(len(beta))]\n",
        "B6 = [beta[i] * x6 *  gamma[j] for i in range(len(beta)) for j in range(len(beta))]\n",
        "B7 = [beta[i] *  gamma[j] for i in range(len(beta)) for j in range(len(beta))]"
      ],
      "metadata": {
        "id": "Y3TkzXWPSnQe"
      },
      "execution_count": 5,
      "outputs": []
    },
    {
      "cell_type": "code",
      "source": [
        "S = 1 + g +  g**2 + g**3 + g**4 +  g**5"
      ],
      "metadata": {
        "id": "PLoEHJVGUgGU"
      },
      "execution_count": 6,
      "outputs": []
    },
    {
      "cell_type": "code",
      "source": [
        "Args = list( S.expand().args )"
      ],
      "metadata": {
        "id": "kfCQHN9zVA9X"
      },
      "execution_count": 7,
      "outputs": []
    },
    {
      "cell_type": "code",
      "source": [
        "len(Args)"
      ],
      "metadata": {
        "colab": {
          "base_uri": "https://localhost:8080/"
        },
        "id": "4mpyHmJiVEjH",
        "outputId": "c09ec90b-159a-4310-ab82-279d486e2920"
      },
      "execution_count": 8,
      "outputs": [
        {
          "output_type": "execute_result",
          "data": {
            "text/plain": [
              "9331"
            ]
          },
          "metadata": {},
          "execution_count": 8
        }
      ]
    },
    {
      "cell_type": "code",
      "source": [
        "def find_basis(B):\n",
        "    Z =  np.zeros(len(B), dtype=int)\n",
        "\n",
        "    for l in range(len(B)):\n",
        "        for i in range(len(Args)):\n",
        "            if B[l] == Args[i]:\n",
        "                Z[l] = i\n",
        "    return Z\n",
        "            "
      ],
      "metadata": {
        "id": "YYaCk4SkVyxB"
      },
      "execution_count": 9,
      "outputs": []
    },
    {
      "cell_type": "code",
      "source": [
        "Z1 = find_basis(B1).reshape(len(beta), len(beta))\n",
        "Z2 = find_basis(B2).reshape(len(beta), len(beta))\n",
        "Z3 = find_basis(B3).reshape(len(beta), len(beta))\n",
        "Z4 = find_basis(B4).reshape(len(beta), len(beta))\n",
        "Z5 = find_basis(B5).reshape(len(beta), len(beta))\n",
        "Z6 = find_basis(B6).reshape(len(beta), len(beta))\n",
        "Z7 = find_basis(B7).reshape(len(beta), len(beta))\n",
        "\n",
        "# very slow, should optimize."
      ],
      "metadata": {
        "id": "oGOA7cefXqlc"
      },
      "execution_count": null,
      "outputs": []
    },
    {
      "cell_type": "code",
      "source": [
        "U = [Z1, Z2, Z3, Z4, Z5, Z6, Z7]"
      ],
      "metadata": {
        "id": "k1eznQm9mQyh"
      },
      "execution_count": null,
      "outputs": []
    },
    {
      "cell_type": "code",
      "source": [
        "import itertools\n",
        "\n",
        "perm = list(itertools.permutations([x1,x2,x3,x4,x5, x6], 4))"
      ],
      "metadata": {
        "id": "AXnZghPrSijy"
      },
      "execution_count": null,
      "outputs": []
    },
    {
      "cell_type": "code",
      "source": [
        "T = ( sum([prod(perm[_]) for _ in range(len(perm))]) ).expand().args "
      ],
      "metadata": {
        "id": "0GsqhKUcgEsm"
      },
      "execution_count": null,
      "outputs": []
    },
    {
      "cell_type": "code",
      "source": [
        "G = find_basis(T)"
      ],
      "metadata": {
        "id": "G--vJF09gdK7"
      },
      "execution_count": null,
      "outputs": []
    },
    {
      "cell_type": "code",
      "source": [
        "A = [None] * len(Args)\n",
        "\n",
        "for index in range(len(Args)):\n",
        "    A[index] = np.zeros( ( (n+1) * len(beta) + 1,  (n+1) * len(beta) + 1) )\n",
        "    M = np.zeros((len(beta), len(beta)))\n",
        "    for k in range(n+1):\n",
        "        start = 1 + k * len(beta)\n",
        "        final = 1 + (k + 1) * len(beta)\n",
        "        P = U[k] == index\n",
        "        if k < n:\n",
        "            M += P\n",
        "            A[index][ start:final, start:final ] = P\n",
        "        else:\n",
        "            A[index][ start:final, start:final ] = n * P - M"
      ],
      "metadata": {
        "id": "svPxwYaEkmIa"
      },
      "execution_count": null,
      "outputs": []
    },
    {
      "cell_type": "code",
      "source": [
        "A[0][0, 0] = -1"
      ],
      "metadata": {
        "id": "hge5XlUtl83h"
      },
      "execution_count": null,
      "outputs": []
    },
    {
      "cell_type": "code",
      "source": [
        "import cvxpy as cp\n",
        "import numpy as np\n",
        "\n",
        "# Generate a random SDP.\n",
        "p = len(Args)\n",
        "\n",
        "C = np.zeros(((n+1) * len(beta) + 1, (n+1) * len(beta) + 1))\n",
        "C[0,0]=1\n",
        "b = np.zeros(p)\n",
        "b[G] = -1\n",
        "# b[G] =-1\n",
        "\n",
        "# Define and solve the CVXPY problem.\n",
        "# Create a symmetric matrix variable.\n",
        "X = cp.Variable(((n+1) * len(beta) + 1, (n+1) * len(beta) + 1), symmetric=True)\n",
        "# The operator >> denotes matrix inequality.\n",
        "constraints = [X >> 0]\n",
        "constraints += [\n",
        "    cp.trace(A[i] @ X) == b[i] for i in range(p)\n",
        "]\n",
        "prob = cp.Problem(cp.Minimize(cp.trace(C @ X)),\n",
        "                  constraints)\n",
        "prob.solve(verbose=True)\n",
        "\n",
        "# Print result.\n",
        "print(\"The optimal value is\", prob.value)\n",
        "print(\"A solution X is\")\n",
        "print(X.value)"
      ],
      "metadata": {
        "id": "eQkTlp1co5uO"
      },
      "execution_count": null,
      "outputs": []
    },
    {
      "cell_type": "code",
      "source": [
        ""
      ],
      "metadata": {
        "id": "RbGWEeF1RhTa"
      },
      "execution_count": null,
      "outputs": []
    }
  ]
}