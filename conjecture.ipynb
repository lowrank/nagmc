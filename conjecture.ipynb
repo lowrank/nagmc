{
  "nbformat": 4,
  "nbformat_minor": 0,
  "metadata": {
    "colab": {
      "name": "AMGM Matrix Conj",
      "provenance": [],
      "collapsed_sections": [],
      "machine_shape": "hm"
    },
    "kernelspec": {
      "name": "python3",
      "display_name": "Python 3"
    },
    "language_info": {
      "name": "python"
    }
  },
  "cells": [
    {
      "cell_type": "code",
      "execution_count": 1,
      "metadata": {
        "colab": {
          "base_uri": "https://localhost:8080/"
        },
        "id": "eh5MqQAiAvY0",
        "outputId": "69d24a4e-caec-43f0-d8d0-213768cd4b11"
      },
      "outputs": [
        {
          "output_type": "stream",
          "name": "stdout",
          "text": [
            "Collecting cvxpy==1.1.18\n",
            "  Downloading cvxpy-1.1.18-cp37-cp37m-manylinux_2_24_x86_64.whl (2.7 MB)\n",
            "\u001b[K     |████████████████████████████████| 2.7 MB 5.0 MB/s \n",
            "\u001b[?25hRequirement already satisfied: osqp>=0.4.1 in /usr/local/lib/python3.7/dist-packages (from cvxpy==1.1.18) (0.6.2.post0)\n",
            "Requirement already satisfied: ecos>=2 in /usr/local/lib/python3.7/dist-packages (from cvxpy==1.1.18) (2.0.10)\n",
            "Requirement already satisfied: numpy>=1.15 in /usr/local/lib/python3.7/dist-packages (from cvxpy==1.1.18) (1.19.5)\n",
            "Requirement already satisfied: scs>=1.1.6 in /usr/local/lib/python3.7/dist-packages (from cvxpy==1.1.18) (3.0.1)\n",
            "Requirement already satisfied: scipy>=1.1.0 in /usr/local/lib/python3.7/dist-packages (from cvxpy==1.1.18) (1.4.1)\n",
            "Requirement already satisfied: qdldl in /usr/local/lib/python3.7/dist-packages (from osqp>=0.4.1->cvxpy==1.1.18) (0.1.5.post0)\n",
            "Installing collected packages: cvxpy\n",
            "  Attempting uninstall: cvxpy\n",
            "    Found existing installation: cvxpy 1.0.31\n",
            "    Uninstalling cvxpy-1.0.31:\n",
            "      Successfully uninstalled cvxpy-1.0.31\n",
            "Successfully installed cvxpy-1.1.18\n"
          ]
        }
      ],
      "source": [
        "pip install cvxpy==1.1.18"
      ]
    },
    {
      "cell_type": "code",
      "source": [
        "from sympy import *\n",
        "import numpy as np\n",
        "\n",
        "\n",
        "n = 6\n",
        "\n",
        "x1, x2, x3, x4, x5, x6 = symbols('x1 x2 x3 x4 x5 x6', commutative=False)\n",
        "\n",
        "g = (x1 + x2 + x3 + x4 + x5 + x6)\n",
        "\n",
        "beta = ( 1 + g + g**2 ).expand().args "
      ],
      "metadata": {
        "id": "3egra7OKLNY0"
      },
      "execution_count": 2,
      "outputs": []
    },
    {
      "cell_type": "code",
      "source": [
        "gamma = [None] * len(beta)"
      ],
      "metadata": {
        "id": "xnJ0zWxQZSkV"
      },
      "execution_count": 3,
      "outputs": []
    },
    {
      "cell_type": "code",
      "source": [
        "for l in range(len(beta)):\n",
        "    order = beta[l].args \n",
        "\n",
        "    flag = True \n",
        "    for _ in range(len( order) ):\n",
        "        flag = False\n",
        "        if isinstance(order[_], Integer): \n",
        "            flag = True\n",
        "\n",
        "    if not flag:\n",
        "        # revert \n",
        "        gamma[l] = prod( list ( ( order )[::-1] ) )\n",
        "    else:\n",
        "        gamma[l] = beta[l]\n",
        "            "
      ],
      "metadata": {
        "id": "yE3B2DnJaFDz"
      },
      "execution_count": 4,
      "outputs": []
    },
    {
      "cell_type": "code",
      "source": [
        "B1 = [beta[i] * x1 *  gamma[j] for i in range(len(beta)) for j in range(len(beta))]\n",
        "B2 = [beta[i] * x2 *  gamma[j] for i in range(len(beta)) for j in range(len(beta))] \n",
        "B3 = [beta[i] * x3 *  gamma[j] for i in range(len(beta)) for j in range(len(beta))]\n",
        "B4 = [beta[i] * x4 *  gamma[j] for i in range(len(beta)) for j in range(len(beta))]\n",
        "B5 = [beta[i] * x5 *  gamma[j] for i in range(len(beta)) for j in range(len(beta))]\n",
        "B6 = [beta[i] * x6 *  gamma[j] for i in range(len(beta)) for j in range(len(beta))]\n",
        "B7 = [beta[i] *  gamma[j] for i in range(len(beta)) for j in range(len(beta))]"
      ],
      "metadata": {
        "id": "Y3TkzXWPSnQe"
      },
      "execution_count": 5,
      "outputs": []
    },
    {
      "cell_type": "code",
      "source": [
        "S = 1 + g +  g**2 + g**3 + g**4 +  g**5"
      ],
      "metadata": {
        "id": "PLoEHJVGUgGU"
      },
      "execution_count": 6,
      "outputs": []
    },
    {
      "cell_type": "code",
      "source": [
        "Args = list( S.expand().args )"
      ],
      "metadata": {
        "id": "kfCQHN9zVA9X"
      },
      "execution_count": 7,
      "outputs": []
    },
    {
      "cell_type": "code",
      "source": [
        "len(Args)"
      ],
      "metadata": {
        "colab": {
          "base_uri": "https://localhost:8080/"
        },
        "id": "4mpyHmJiVEjH",
        "outputId": "83f86546-ca75-44ba-ebe1-6ee193e6e28a"
      },
      "execution_count": 8,
      "outputs": [
        {
          "output_type": "execute_result",
          "data": {
            "text/plain": [
              "9331"
            ]
          },
          "metadata": {},
          "execution_count": 8
        }
      ]
    },
    {
      "cell_type": "code",
      "source": [
        "Args_dict = {}\n",
        "\n",
        "for i in range(len(Args)):\n",
        "    Args_dict[Args[i]] = i\n",
        "\n",
        "\n",
        "def find_basis(B):\n",
        "    Z =  np.zeros(len(B), dtype=int)\n",
        "    for l in range(len(B)):\n",
        "        Z[l] = Args_dict[B[l]]\n",
        "    return Z\n",
        "            "
      ],
      "metadata": {
        "id": "YYaCk4SkVyxB"
      },
      "execution_count": 9,
      "outputs": []
    },
    {
      "cell_type": "code",
      "source": [
        "Z1 = find_basis(B1).reshape(len(beta), len(beta))\n",
        "Z2 = find_basis(B2).reshape(len(beta), len(beta))\n",
        "Z3 = find_basis(B3).reshape(len(beta), len(beta))\n",
        "Z4 = find_basis(B4).reshape(len(beta), len(beta))\n",
        "Z5 = find_basis(B5).reshape(len(beta), len(beta))\n",
        "Z6 = find_basis(B6).reshape(len(beta), len(beta))\n",
        "Z7 = find_basis(B7).reshape(len(beta), len(beta))\n",
        "\n",
        "# very slow, should optimize."
      ],
      "metadata": {
        "id": "oGOA7cefXqlc"
      },
      "execution_count": 10,
      "outputs": []
    },
    {
      "cell_type": "code",
      "source": [
        "U = [Z1, Z2, Z3, Z4, Z5, Z6, Z7]"
      ],
      "metadata": {
        "id": "k1eznQm9mQyh"
      },
      "execution_count": 11,
      "outputs": []
    },
    {
      "cell_type": "code",
      "source": [
        "import itertools\n",
        "\n",
        "perm = list(itertools.permutations([x1,x2,x3,x4,x5, x6], 4))"
      ],
      "metadata": {
        "id": "AXnZghPrSijy"
      },
      "execution_count": 12,
      "outputs": []
    },
    {
      "cell_type": "code",
      "source": [
        "T = ( sum([prod(perm[_]) for _ in range(len(perm))]) ).expand().args "
      ],
      "metadata": {
        "id": "0GsqhKUcgEsm"
      },
      "execution_count": 13,
      "outputs": []
    },
    {
      "cell_type": "code",
      "source": [
        "G = find_basis(T)"
      ],
      "metadata": {
        "id": "G--vJF09gdK7"
      },
      "execution_count": 14,
      "outputs": []
    },
    {
      "cell_type": "code",
      "source": [
        "A = [None] * len(Args)\n",
        "\n",
        "for index in range(len(Args)):\n",
        "    A[index] = np.zeros( ( (n+1) * len(beta) + 1,  (n+1) * len(beta) + 1) )\n",
        "    M = np.zeros((len(beta), len(beta)))\n",
        "    for k in range(n+1):\n",
        "        start = 1 + k * len(beta)\n",
        "        final = 1 + (k + 1) * len(beta)\n",
        "        P = U[k] == index\n",
        "        if k < n:\n",
        "            M += P\n",
        "            A[index][ start:final, start:final ] = P\n",
        "        else:\n",
        "            A[index][ start:final, start:final ] = n * P - M"
      ],
      "metadata": {
        "id": "svPxwYaEkmIa"
      },
      "execution_count": 15,
      "outputs": []
    },
    {
      "cell_type": "code",
      "source": [
        "A[0][0, 0] = -1"
      ],
      "metadata": {
        "id": "hge5XlUtl83h"
      },
      "execution_count": 16,
      "outputs": []
    },
    {
      "cell_type": "code",
      "source": [
        "import cvxpy as cp\n",
        "import numpy as np\n",
        "\n",
        "# Generate a random SDP.\n",
        "p = len(Args)\n",
        "\n",
        "C = np.zeros(((n+1) * len(beta) + 1, (n+1) * len(beta) + 1))\n",
        "C[0,0]=1\n",
        "b = np.zeros(p)\n",
        "b[G] = -1\n",
        "# b[G] =-1\n",
        "\n",
        "# Define and solve the CVXPY problem.\n",
        "# Create a symmetric matrix variable.\n",
        "X = cp.Variable(((n+1) * len(beta) + 1, (n+1) * len(beta) + 1), symmetric=True)\n",
        "# The operator >> denotes matrix inequality.\n",
        "constraints = [X >> 0]\n",
        "constraints += [\n",
        "    cp.trace(A[i] @ X) == b[i] for i in range(p)\n",
        "]\n",
        "prob = cp.Problem(cp.Minimize(cp.trace(C @ X)),\n",
        "                  constraints)\n",
        "prob.solve(verbose=True)\n",
        "\n",
        "# Print result.\n",
        "print(\"The optimal value is\", prob.value)\n",
        "print(\"A solution X is\")\n",
        "print(X.value)"
      ],
      "metadata": {
        "colab": {
          "base_uri": "https://localhost:8080/"
        },
        "id": "eQkTlp1co5uO",
        "outputId": "6ffc9cd5-74b5-43c4-ba5b-8ccaa26a6b28"
      },
      "execution_count": 17,
      "outputs": [
        {
          "output_type": "stream",
          "name": "stdout",
          "text": [
            "===============================================================================\n",
            "                                     CVXPY                                     \n",
            "                                    v1.1.18                                    \n",
            "===============================================================================\n",
            "(CVXPY) Jan 23 05:36:33 AM: Your problem has 91204 variables, 9332 constraints, and 0 parameters.\n",
            "(CVXPY) Jan 23 05:36:34 AM: It is compliant with the following grammars: DCP, DQCP\n",
            "(CVXPY) Jan 23 05:36:34 AM: (If you need to solve this problem multiple times, but with different data, consider using parameters.)\n",
            "(CVXPY) Jan 23 05:36:34 AM: CVXPY will first compile your problem; then, it will invoke a numerical solver to obtain a solution.\n",
            "-------------------------------------------------------------------------------\n",
            "                                  Compilation                                  \n",
            "-------------------------------------------------------------------------------\n",
            "(CVXPY) Jan 23 05:36:35 AM: Compiling problem (target solver=SCS).\n",
            "(CVXPY) Jan 23 05:36:35 AM: Reduction chain: Dcp2Cone -> CvxAttr2Constr -> ConeMatrixStuffing -> SCS\n",
            "(CVXPY) Jan 23 05:36:35 AM: Applying reduction Dcp2Cone\n",
            "(CVXPY) Jan 23 05:36:36 AM: Applying reduction CvxAttr2Constr\n",
            "(CVXPY) Jan 23 05:36:37 AM: Applying reduction ConeMatrixStuffing\n",
            "(CVXPY) Jan 23 05:39:34 AM: Applying reduction SCS\n",
            "(CVXPY) Jan 23 05:39:39 AM: Finished problem compilation (took 1.853e+02 seconds).\n",
            "-------------------------------------------------------------------------------\n",
            "                                Numerical solver                               \n",
            "-------------------------------------------------------------------------------\n",
            "(CVXPY) Jan 23 05:39:39 AM: Invoking solver SCS  to obtain a solution.\n",
            "------------------------------------------------------------------\n",
            "\t       SCS v3.0.0 - Splitting Conic Solver\n",
            "\t(c) Brendan O'Donoghue, Stanford University, 2012\n",
            "------------------------------------------------------------------\n",
            "problem:  variables n: 45753, constraints m: 55084\n",
            "cones: \t  z: primal zero / dual free vars: 9331\n",
            "\t  s: psd vars: 45753, ssize: 1\n",
            "settings: eps_abs: 1.0e-05, eps_rel: 1.0e-05, eps_infeas: 1.0e-07\n",
            "\t  alpha: 1.50, scale: 1.00e-01, adaptive_scale: 1\n",
            "\t  max_iters: 100000, normalize: 1, warm_start: 0\n",
            "\t  acceleration_lookback: 10, acceleration_interval: 10\n",
            "lin-sys:  sparse-direct\n",
            "\t  nnz(A): 69587, nnz(P): 0\n",
            "------------------------------------------------------------------\n",
            " iter | pri res | dua res |   gap   |   obj   |  scale  | time (s)\n",
            "------------------------------------------------------------------\n",
            "     0| 2.71e+01  1.00e+00  3.41e+01 -1.00e+01  1.00e-01  3.32e-02 \n",
            "   250| 1.48e-01  1.62e-03  8.88e-04  3.50e+02  2.83e-02  3.67e+00 \n",
            "   500| 1.24e-01  4.60e-04  6.64e-04  3.55e+02  2.83e-02  7.28e+00 \n",
            "   750| 3.59e-02  7.80e-05  3.13e-04  3.57e+02  2.83e-02  1.10e+01 \n",
            "  1000| 3.90e-02  7.51e-05  5.52e-04  3.57e+02  2.83e-02  1.47e+01 \n",
            "  1250| 4.12e-02  4.50e-05  3.60e-04  3.58e+02  2.83e-02  1.84e+01 \n",
            "  1500| 4.36e-02  1.32e-04  3.72e-04  3.58e+02  2.83e-02  2.21e+01 \n",
            "  1750| 2.07e+03  4.18e+01  1.69e-03  3.72e+02  2.83e-02  2.58e+01 \n",
            "  2000| 4.35e-02  4.58e-05  3.01e-04  3.58e+02  2.83e-02  2.95e+01 \n",
            "  2250| 4.36e-02  3.23e-05  2.95e-04  3.58e+02  2.83e-02  3.32e+01 \n",
            "  2500| 4.36e-02  3.08e-05  2.78e-04  3.58e+02  2.83e-02  3.69e+01 \n",
            "  2750| 4.36e-02  2.99e-05  2.66e-04  3.58e+02  2.83e-02  4.06e+01 \n",
            "  3000| 4.36e-02  2.84e-05  2.52e-04  3.58e+02  2.83e-02  4.43e+01 \n",
            "  3250| 4.36e-02  2.73e-05  2.39e-04  3.58e+02  2.83e-02  4.80e+01 \n",
            "  3500| 4.36e-02  2.60e-05  2.26e-04  3.58e+02  2.83e-02  5.17e+01 \n",
            "  3750| 4.36e-02  2.48e-05  2.13e-04  3.59e+02  2.83e-02  5.54e+01 \n",
            "  4000| 4.36e-02  2.36e-05  2.00e-04  3.59e+02  2.83e-02  5.92e+01 \n",
            "  4250| 4.36e-02  2.24e-05  1.87e-04  3.59e+02  2.83e-02  6.29e+01 \n",
            "  4500| 2.41e+01  4.88e-01  2.13e-02  2.34e+02  2.83e-02  6.66e+01 \n",
            "  4750| 4.36e-02  1.99e-05  1.61e-04  3.59e+02  2.83e-02  7.03e+01 \n",
            "  5000| 4.36e-02  1.87e-05  1.47e-04  3.59e+02  2.83e-02  7.40e+01 \n",
            "  5250| 4.37e-02  1.75e-05  1.34e-04  3.59e+02  2.83e-02  7.77e+01 \n",
            "  5500| 4.37e-02  1.63e-05  1.21e-04  3.59e+02  2.83e-02  8.14e+01 \n",
            "  5750| 4.37e-02  1.51e-05  1.08e-04  3.59e+02  2.83e-02  8.51e+01 \n",
            "  6000| 4.37e-02  1.39e-05  9.54e-05  3.59e+02  2.83e-02  8.87e+01 \n",
            "  6250| 4.37e-02  1.26e-05  8.24e-05  3.59e+02  2.83e-02  9.24e+01 \n",
            "  6500| 4.37e-02  1.14e-05  6.95e-05  3.60e+02  2.83e-02  9.61e+01 \n",
            "  6750| 4.37e-02  1.02e-05  5.66e-05  3.60e+02  2.83e-02  9.99e+01 \n",
            "  7000| 4.37e-02  9.02e-06  4.36e-05  3.60e+02  2.83e-02  1.04e+02 \n",
            "  7250| 1.18e+02  2.39e+00  3.43e-01  1.34e+02  2.83e-02  1.07e+02 \n",
            "  7500| 4.37e-02  6.60e-06  1.77e-05  3.60e+02  2.83e-02  1.11e+02 \n",
            "  7750| 4.37e-02  5.40e-06  4.76e-06  3.60e+02  2.83e-02  1.15e+02 \n",
            "  7875| 3.30e-04  5.26e-06  6.12e-05  3.60e+02  2.83e-02  1.17e+02 \n",
            "------------------------------------------------------------------\n",
            "status:  solved\n",
            "timings: total: 1.17e+02s = setup: 1.44e-01s + solve: 1.17e+02s\n",
            "\t lin-sys: 1.57e+01s, cones: 9.10e+01s, accel: 1.71e+00s\n",
            "------------------------------------------------------------------\n",
            "objective = 360.000317\n",
            "------------------------------------------------------------------\n",
            "-------------------------------------------------------------------------------\n",
            "                                    Summary                                    \n",
            "-------------------------------------------------------------------------------\n",
            "(CVXPY) Jan 23 05:41:37 AM: Problem status: optimal\n",
            "(CVXPY) Jan 23 05:41:37 AM: Optimal value: 3.600e+02\n",
            "(CVXPY) Jan 23 05:41:37 AM: Compilation took 1.853e+02 seconds\n",
            "(CVXPY) Jan 23 05:41:37 AM: Solver (including time spent in interface) took 1.169e+02 seconds\n",
            "The optimal value is 360.00028650857746\n",
            "A solution X is\n",
            "[[360.00028651   0.           0.         ...   0.           0.\n",
            "    0.        ]\n",
            " [  0.          98.98597187 -60.88376714 ...   0.           0.\n",
            "    0.        ]\n",
            " [  0.         -60.88376714  49.55637348 ...   0.           0.\n",
            "    0.        ]\n",
            " ...\n",
            " [  0.           0.           0.         ...   0.94285431   0.41599914\n",
            "    0.41599914]\n",
            " [  0.           0.           0.         ...   0.41599914   0.94285431\n",
            "    0.41599914]\n",
            " [  0.           0.           0.         ...   0.41599914   0.41599914\n",
            "    0.94285431]]\n"
          ]
        }
      ]
    },
    {
      "cell_type": "code",
      "source": [
        ""
      ],
      "metadata": {
        "id": "wOeYxTfkdHvr"
      },
      "execution_count": null,
      "outputs": []
    }
  ]
}
