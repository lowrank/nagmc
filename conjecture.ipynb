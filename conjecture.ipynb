{
  "nbformat": 4,
  "nbformat_minor": 0,
  "metadata": {
    "colab": {
      "name": "AMGM Matrix Conj",
      "provenance": [],
      "collapsed_sections": [],
      "machine_shape": "hm"
    },
    "kernelspec": {
      "name": "python3",
      "display_name": "Python 3"
    },
    "language_info": {
      "name": "python"
    }
  },
  "cells": [
    {
      "cell_type": "code",
      "execution_count": 1,
      "metadata": {
        "colab": {
          "base_uri": "https://localhost:8080/"
        },
        "id": "eh5MqQAiAvY0",
        "outputId": "69d24a4e-caec-43f0-d8d0-213768cd4b11"
      },
      "outputs": [
        {
          "output_type": "stream",
          "name": "stdout",
          "text": [
            "Collecting cvxpy==1.1.18\n",
            "  Downloading cvxpy-1.1.18-cp37-cp37m-manylinux_2_24_x86_64.whl (2.7 MB)\n",
            "\u001b[K     |████████████████████████████████| 2.7 MB 5.0 MB/s \n",
            "\u001b[?25hRequirement already satisfied: osqp>=0.4.1 in /usr/local/lib/python3.7/dist-packages (from cvxpy==1.1.18) (0.6.2.post0)\n",
            "Requirement already satisfied: ecos>=2 in /usr/local/lib/python3.7/dist-packages (from cvxpy==1.1.18) (2.0.10)\n",
            "Requirement already satisfied: numpy>=1.15 in /usr/local/lib/python3.7/dist-packages (from cvxpy==1.1.18) (1.19.5)\n",
            "Requirement already satisfied: scs>=1.1.6 in /usr/local/lib/python3.7/dist-packages (from cvxpy==1.1.18) (3.0.1)\n",
            "Requirement already satisfied: scipy>=1.1.0 in /usr/local/lib/python3.7/dist-packages (from cvxpy==1.1.18) (1.4.1)\n",
            "Requirement already satisfied: qdldl in /usr/local/lib/python3.7/dist-packages (from osqp>=0.4.1->cvxpy==1.1.18) (0.1.5.post0)\n",
            "Installing collected packages: cvxpy\n",
            "  Attempting uninstall: cvxpy\n",
            "    Found existing installation: cvxpy 1.0.31\n",
            "    Uninstalling cvxpy-1.0.31:\n",
            "      Successfully uninstalled cvxpy-1.0.31\n",
            "Successfully installed cvxpy-1.1.18\n"
          ]
        }
      ],
      "source": [
        "pip install cvxpy==1.1.18"
      ]
    },
    {
      "cell_type": "code",
      "source": [
        "from sympy import *\n",
        "import numpy as np\n",
        "\n",
        "\n",
        "n = 6\n",
        "\n",
        "x1, x2, x3, x4, x5, x6 = symbols('x1 x2 x3 x4 x5 x6', commutative=False)\n",
        "\n",
        "g = (x1 + x2 + x3 + x4 + x5 + x6)\n",
        "\n",
        "beta = ( 1 + g + g**2 ).expand().args "
      ],
      "metadata": {
        "id": "3egra7OKLNY0"
      },
      "execution_count": 2,
      "outputs": []
    },
    {
      "cell_type": "code",
      "source": [
        "gamma = [None] * len(beta)"
      ],
      "metadata": {
        "id": "xnJ0zWxQZSkV"
      },
      "execution_count": 3,
      "outputs": []
    },
    {
      "cell_type": "code",
      "source": [
        "for l in range(len(beta)):\n",
        "    order = beta[l].args \n",
        "\n",
        "    flag = True \n",
        "    for _ in range(len( order) ):\n",
        "        flag = False\n",
        "        if isinstance(order[_], Integer): \n",
        "            flag = True\n",
        "\n",
        "    if not flag:\n",
        "        # revert \n",
        "        gamma[l] = prod( list ( ( order )[::-1] ) )\n",
        "    else:\n",
        "        gamma[l] = beta[l]\n",
        "            "
      ],
      "metadata": {
        "id": "yE3B2DnJaFDz"
      },
      "execution_count": 4,
      "outputs": []
    },
    {
      "cell_type": "code",
      "source": [
        "B1 = [beta[i] * x1 *  gamma[j] for i in range(len(beta)) for j in range(len(beta))]\n",
        "B2 = [beta[i] * x2 *  gamma[j] for i in range(len(beta)) for j in range(len(beta))] \n",
        "B3 = [beta[i] * x3 *  gamma[j] for i in range(len(beta)) for j in range(len(beta))]\n",
        "B4 = [beta[i] * x4 *  gamma[j] for i in range(len(beta)) for j in range(len(beta))]\n",
        "B5 = [beta[i] * x5 *  gamma[j] for i in range(len(beta)) for j in range(len(beta))]\n",
        "B6 = [beta[i] * x6 *  gamma[j] for i in range(len(beta)) for j in range(len(beta))]\n",
        "B7 = [beta[i] *  gamma[j] for i in range(len(beta)) for j in range(len(beta))]"
      ],
      "metadata": {
        "id": "Y3TkzXWPSnQe"
      },
      "execution_count": 5,
      "outputs": []
    },
    {
      "cell_type": "code",
      "source": [
        "S = 1 + g +  g**2 + g**3 + g**4 +  g**5"
      ],
      "metadata": {
        "id": "PLoEHJVGUgGU"
      },
      "execution_count": 6,
      "outputs": []
    },
    {
      "cell_type": "code",
      "source": [
        "Args = list( S.expand().args )"
      ],
      "metadata": {
        "id": "kfCQHN9zVA9X"
      },
      "execution_count": 7,
      "outputs": []
    },
    {
      "cell_type": "code",
      "source": [
        "len(Args)"
      ],
      "metadata": {
        "colab": {
          "base_uri": "https://localhost:8080/"
        },
        "id": "4mpyHmJiVEjH",
        "outputId": "83f86546-ca75-44ba-ebe1-6ee193e6e28a"
      },
      "execution_count": 8,
      "outputs": [
        {
          "output_type": "execute_result",
          "data": {
            "text/plain": [
              "9331"
            ]
          },
          "metadata": {},
          "execution_count": 8
        }
      ]
    },
    {
      "cell_type": "code",
      "source": [
        "Args_dict = {}\n",
        "\n",
        "for i in range(len(Args)):\n",
        "    Args_dict[Args[i]] = i\n",
        "\n",
        "\n",
        "def find_basis(B):\n",
        "    Z =  np.zeros(len(B), dtype=int)\n",
        "    for l in range(len(B)):\n",
        "        Z[l] = Args_dict[B[l]]\n",
        "    return Z\n",
        "            "
      ],
      "metadata": {
        "id": "YYaCk4SkVyxB"
      },
      "execution_count": 9,
      "outputs": []
    },
    {
      "cell_type": "code",
      "source": [
        "Z1 = find_basis(B1).reshape(len(beta), len(beta))\n",
        "Z2 = find_basis(B2).reshape(len(beta), len(beta))\n",
        "Z3 = find_basis(B3).reshape(len(beta), len(beta))\n",
        "Z4 = find_basis(B4).reshape(len(beta), len(beta))\n",
        "Z5 = find_basis(B5).reshape(len(beta), len(beta))\n",
        "Z6 = find_basis(B6).reshape(len(beta), len(beta))\n",
        "Z7 = find_basis(B7).reshape(len(beta), len(beta))\n",
        "\n",
        "# very slow, should optimize."
      ],
      "metadata": {
        "id": "oGOA7cefXqlc"
      },
      "execution_count": 10,
      "outputs": []
    },
    {
      "cell_type": "code",
      "source": [
        "U = [Z1, Z2, Z3, Z4, Z5, Z6, Z7]"
      ],
      "metadata": {
        "id": "k1eznQm9mQyh"
      },
      "execution_count": 11,
      "outputs": []
    },
    {
      "cell_type": "code",
      "source": [
        "import itertools\n",
        "\n",
        "perm = list(itertools.permutations([x1,x2,x3,x4,x5, x6], 4))"
      ],
      "metadata": {
        "id": "AXnZghPrSijy"
      },
      "execution_count": 12,
      "outputs": []
    },
    {
      "cell_type": "code",
      "source": [
        "T = ( sum([prod(perm[_]) for _ in range(len(perm))]) ).expand().args "
      ],
      "metadata": {
        "id": "0GsqhKUcgEsm"
      },
      "execution_count": 13,
      "outputs": []
    },
    {
      "cell_type": "code",
      "source": [
        "G = find_basis(T)"
      ],
      "metadata": {
        "id": "G--vJF09gdK7"
      },
      "execution_count": 14,
      "outputs": []
    },
    {
      "cell_type": "code",
      "source": [
        "A = [None] * len(Args)\n",
        "\n",
        "for index in range(len(Args)):\n",
        "    A[index] = np.zeros( ( (n+1) * len(beta) + 1,  (n+1) * len(beta) + 1) )\n",
        "    M = np.zeros((len(beta), len(beta)))\n",
        "    for k in range(n+1):\n",
        "        start = 1 + k * len(beta)\n",
        "        final = 1 + (k + 1) * len(beta)\n",
        "        P = U[k] == index\n",
        "        if k < n:\n",
        "            M += P\n",
        "            A[index][ start:final, start:final ] = P\n",
        "        else:\n",
        "            A[index][ start:final, start:final ] = n * P - M"
      ],
      "metadata": {
        "id": "svPxwYaEkmIa"
      },
      "execution_count": 15,
      "outputs": []
    },
    {
      "cell_type": "code",
      "source": [
        "A[0][0, 0] = -1"
      ],
      "metadata": {
        "id": "hge5XlUtl83h"
      },
      "execution_count": 16,
      "outputs": []
    },
    {
      "cell_type": "code",
      "source": [
        "import cvxpy as cp\n",
        "import numpy as np\n",
        "\n",
        "# Generate a random SDP.\n",
        "p = len(Args)\n",
        "\n",
        "C = np.zeros(((n+1) * len(beta) + 1, (n+1) * len(beta) + 1))\n",
        "C[0,0]=1\n",
        "b = np.zeros(p)\n",
        "b[G] = -1\n",
        "\n",
        "# Define and solve the CVXPY problem.\n",
        "# Create a symmetric matrix variable.\n",
        "X = cp.Variable(((n+1) * len(beta) + 1, (n+1) * len(beta) + 1), symmetric=True)\n",
        "# The operator >> denotes matrix inequality.\n",
        "constraints = [X >> 0]\n",
        "constraints += [\n",
        "    cp.trace(A[i] @ X) == b[i] for i in range(p)\n",
        "]\n",
        "prob = cp.Problem(cp.Minimize(cp.trace(C @ X)),\n",
        "                  constraints)\n",
        "prob.solve(verbose=True)\n",
        "\n",
        "# Print result.\n",
        "print(\"The optimal value is\", prob.value)\n",
        "print(\"A solution X is\")\n",
        "print(X.value)"
      ],
      "metadata": {
        "colab": {
          "base_uri": "https://localhost:8080/"
        },
        "id": "eQkTlp1co5uO",
        "outputId": "6ffc9cd5-74b5-43c4-ba5b-8ccaa26a6b28"
      },
      "execution_count": 17,
      "outputs": [
        {
          "output_type": "stream",
          "name": "stdout",
          "text": [
            "===============================================================================\n",
            "                                     CVXPY                                     \n",
            "                                    v1.1.18                                    \n",
            "===============================================================================\n",
            "(CVXPY) Jan 23 05:36:33 AM: Your problem has 91204 variables, 9332 constraints, and 0 parameters.\n",
            "(CVXPY) Jan 23 05:36:34 AM: It is compliant with the following grammars: DCP, DQCP\n",
            "(CVXPY) Jan 23 05:36:34 AM: (If you need to solve this problem multiple times, but with different data, consider using parameters.)\n",
            "(CVXPY) Jan 23 05:36:34 AM: CVXPY will first compile your problem; then, it will invoke a numerical solver to obtain a solution.\n",
            "-------------------------------------------------------------------------------\n",
            "                                  Compilation                                  \n",
            "-------------------------------------------------------------------------------\n",
            "(CVXPY) Jan 23 05:36:35 AM: Compiling problem (target solver=SCS).\n",
            "(CVXPY) Jan 23 05:36:35 AM: Reduction chain: Dcp2Cone -> CvxAttr2Constr -> ConeMatrixStuffing -> SCS\n",
            "(CVXPY) Jan 23 05:36:35 AM: Applying reduction Dcp2Cone\n",
            "(CVXPY) Jan 23 05:36:36 AM: Applying reduction CvxAttr2Constr\n",
            "(CVXPY) Jan 23 05:36:37 AM: Applying reduction ConeMatrixStuffing\n",
            "(CVXPY) Jan 23 05:39:34 AM: Applying reduction SCS\n",
            "(CVXPY) Jan 23 05:39:39 AM: Finished problem compilation (took 1.853e+02 seconds).\n",
            "-------------------------------------------------------------------------------\n",
            "                                Numerical solver                               \n",
            "-------------------------------------------------------------------------------\n",
            "(CVXPY) Jan 23 05:39:39 AM: Invoking solver SCS  to obtain a solution.\n",
            "------------------------------------------------------------------\n",
            "\t       SCS v3.0.0 - Splitting Conic Solver\n",
            "\t(c) Brendan O'Donoghue, Stanford University, 2012\n",
            "------------------------------------------------------------------\n",
            "problem:  variables n: 45753, constraints m: 55084\n",
            "cones: \t  z: primal zero / dual free vars: 9331\n",
            "\t  s: psd vars: 45753, ssize: 1\n",
            "settings: eps_abs: 1.0e-05, eps_rel: 1.0e-05, eps_infeas: 1.0e-07\n",
            "\t  alpha: 1.50, scale: 1.00e-01, adaptive_scale: 1\n",
            "\t  max_iters: 100000, normalize: 1, warm_start: 0\n",
            "\t  acceleration_lookback: 10, acceleration_interval: 10\n",
            "lin-sys:  sparse-direct\n",
            "\t  nnz(A): 69587, nnz(P): 0\n",
            "------------------------------------------------------------------\n",
            " iter | pri res | dua res |   gap   |   obj   |  scale  | time (s)\n",
            "------------------------------------------------------------------\n",
            "     0| 2.71e+01  1.00e+00  3.41e+01 -1.00e+01  1.00e-01  3.32e-02 \n",
            "   250| 1.48e-01  1.62e-03  8.88e-04  3.50e+02  2.83e-02  3.67e+00 \n",
            "   500| 1.24e-01  4.60e-04  6.64e-04  3.55e+02  2.83e-02  7.28e+00 \n",
            "   750| 3.59e-02  7.80e-05  3.13e-04  3.57e+02  2.83e-02  1.10e+01 \n",
            "  1000| 3.90e-02  7.51e-05  5.52e-04  3.57e+02  2.83e-02  1.47e+01 \n",
            "  1250| 4.12e-02  4.50e-05  3.60e-04  3.58e+02  2.83e-02  1.84e+01 \n",
            "  1500| 4.36e-02  1.32e-04  3.72e-04  3.58e+02  2.83e-02  2.21e+01 \n",
            "  1750| 2.07e+03  4.18e+01  1.69e-03  3.72e+02  2.83e-02  2.58e+01 \n",
            "  2000| 4.35e-02  4.58e-05  3.01e-04  3.58e+02  2.83e-02  2.95e+01 \n",
            "  2250| 4.36e-02  3.23e-05  2.95e-04  3.58e+02  2.83e-02  3.32e+01 \n",
            "  2500| 4.36e-02  3.08e-05  2.78e-04  3.58e+02  2.83e-02  3.69e+01 \n",
            "  2750| 4.36e-02  2.99e-05  2.66e-04  3.58e+02  2.83e-02  4.06e+01 \n",
            "  3000| 4.36e-02  2.84e-05  2.52e-04  3.58e+02  2.83e-02  4.43e+01 \n",
            "  3250| 4.36e-02  2.73e-05  2.39e-04  3.58e+02  2.83e-02  4.80e+01 \n",
            "  3500| 4.36e-02  2.60e-05  2.26e-04  3.58e+02  2.83e-02  5.17e+01 \n",
            "  3750| 4.36e-02  2.48e-05  2.13e-04  3.59e+02  2.83e-02  5.54e+01 \n",
            "  4000| 4.36e-02  2.36e-05  2.00e-04  3.59e+02  2.83e-02  5.92e+01 \n",
            "  4250| 4.36e-02  2.24e-05  1.87e-04  3.59e+02  2.83e-02  6.29e+01 \n",
            "  4500| 2.41e+01  4.88e-01  2.13e-02  2.34e+02  2.83e-02  6.66e+01 \n",
            "  4750| 4.36e-02  1.99e-05  1.61e-04  3.59e+02  2.83e-02  7.03e+01 \n",
            "  5000| 4.36e-02  1.87e-05  1.47e-04  3.59e+02  2.83e-02  7.40e+01 \n",
            "  5250| 4.37e-02  1.75e-05  1.34e-04  3.59e+02  2.83e-02  7.77e+01 \n",
            "  5500| 4.37e-02  1.63e-05  1.21e-04  3.59e+02  2.83e-02  8.14e+01 \n",
            "  5750| 4.37e-02  1.51e-05  1.08e-04  3.59e+02  2.83e-02  8.51e+01 \n",
            "  6000| 4.37e-02  1.39e-05  9.54e-05  3.59e+02  2.83e-02  8.87e+01 \n",
            "  6250| 4.37e-02  1.26e-05  8.24e-05  3.59e+02  2.83e-02  9.24e+01 \n",
            "  6500| 4.37e-02  1.14e-05  6.95e-05  3.60e+02  2.83e-02  9.61e+01 \n",
            "  6750| 4.37e-02  1.02e-05  5.66e-05  3.60e+02  2.83e-02  9.99e+01 \n",
            "  7000| 4.37e-02  9.02e-06  4.36e-05  3.60e+02  2.83e-02  1.04e+02 \n",
            "  7250| 1.18e+02  2.39e+00  3.43e-01  1.34e+02  2.83e-02  1.07e+02 \n",
            "  7500| 4.37e-02  6.60e-06  1.77e-05  3.60e+02  2.83e-02  1.11e+02 \n",
            "  7750| 4.37e-02  5.40e-06  4.76e-06  3.60e+02  2.83e-02  1.15e+02 \n",
            "  7875| 3.30e-04  5.26e-06  6.12e-05  3.60e+02  2.83e-02  1.17e+02 \n",
            "------------------------------------------------------------------\n",
            "status:  solved\n",
            "timings: total: 1.17e+02s = setup: 1.44e-01s + solve: 1.17e+02s\n",
            "\t lin-sys: 1.57e+01s, cones: 9.10e+01s, accel: 1.71e+00s\n",
            "------------------------------------------------------------------\n",
            "objective = 360.000317\n",
            "------------------------------------------------------------------\n",
            "-------------------------------------------------------------------------------\n",
            "                                    Summary                                    \n",
            "-------------------------------------------------------------------------------\n",
            "(CVXPY) Jan 23 05:41:37 AM: Problem status: optimal\n",
            "(CVXPY) Jan 23 05:41:37 AM: Optimal value: 3.600e+02\n",
            "(CVXPY) Jan 23 05:41:37 AM: Compilation took 1.853e+02 seconds\n",
            "(CVXPY) Jan 23 05:41:37 AM: Solver (including time spent in interface) took 1.169e+02 seconds\n",
            "The optimal value is 360.00028650857746\n",
            "A solution X is\n",
            "[[360.00028651   0.           0.         ...   0.           0.\n",
            "    0.        ]\n",
            " [  0.          98.98597187 -60.88376714 ...   0.           0.\n",
            "    0.        ]\n",
            " [  0.         -60.88376714  49.55637348 ...   0.           0.\n",
            "    0.        ]\n",
            " ...\n",
            " [  0.           0.           0.         ...   0.94285431   0.41599914\n",
            "    0.41599914]\n",
            " [  0.           0.           0.         ...   0.41599914   0.94285431\n",
            "    0.41599914]\n",
            " [  0.           0.           0.         ...   0.41599914   0.41599914\n",
            "    0.94285431]]\n"
          ]
        }
      ]
    },
    {
      "cell_type": "code",
      "source": [
        "import cvxpy as cp\n",
        "import numpy as np\n",
        "\n",
        "# Generate a random SDP.\n",
        "p = len(Args)\n",
        "\n",
        "C = np.zeros(((n+1) * len(beta) + 1, (n+1) * len(beta) + 1))\n",
        "C[0,0]=1\n",
        "b = np.zeros(p)\n",
        "b[G] = 1\n",
        "\n",
        "# Define and solve the CVXPY problem.\n",
        "# Create a symmetric matrix variable.\n",
        "X = cp.Variable(((n+1) * len(beta) + 1, (n+1) * len(beta) + 1), symmetric=True)\n",
        "# The operator >> denotes matrix inequality.\n",
        "constraints = [X >> 0]\n",
        "constraints += [\n",
        "    cp.trace(A[i] @ X) == b[i] for i in range(p)\n",
        "]\n",
        "prob = cp.Problem(cp.Minimize(cp.trace(C @ X)),\n",
        "                  constraints)\n",
        "prob.solve(verbose=True)\n",
        "\n",
        "# Print result.\n",
        "print(\"The optimal value is\", prob.value)\n",
        "print(\"A solution X is\")\n",
        "print(X.value)"
      ],
      "metadata": {
        "colab": {
          "base_uri": "https://localhost:8080/"
        },
        "id": "wOeYxTfkdHvr",
        "outputId": "c8d8160e-6eb7-42b0-8c47-14b30e8bca4e"
      },
      "execution_count": 22,
      "outputs": [
        {
          "output_type": "stream",
          "name": "stdout",
          "text": [
            "===============================================================================\n",
            "                                     CVXPY                                     \n",
            "                                    v1.1.18                                    \n",
            "===============================================================================\n",
            "(CVXPY) Jan 23 05:53:27 AM: Your problem has 91204 variables, 9332 constraints, and 0 parameters.\n",
            "(CVXPY) Jan 23 05:53:27 AM: It is compliant with the following grammars: DCP, DQCP\n",
            "(CVXPY) Jan 23 05:53:27 AM: (If you need to solve this problem multiple times, but with different data, consider using parameters.)\n",
            "(CVXPY) Jan 23 05:53:27 AM: CVXPY will first compile your problem; then, it will invoke a numerical solver to obtain a solution.\n",
            "-------------------------------------------------------------------------------\n",
            "                                  Compilation                                  \n",
            "-------------------------------------------------------------------------------\n",
            "(CVXPY) Jan 23 05:53:28 AM: Compiling problem (target solver=SCS).\n",
            "(CVXPY) Jan 23 05:53:28 AM: Reduction chain: Dcp2Cone -> CvxAttr2Constr -> ConeMatrixStuffing -> SCS\n",
            "(CVXPY) Jan 23 05:53:28 AM: Applying reduction Dcp2Cone\n",
            "(CVXPY) Jan 23 05:53:29 AM: Applying reduction CvxAttr2Constr\n",
            "(CVXPY) Jan 23 05:53:30 AM: Applying reduction ConeMatrixStuffing\n",
            "(CVXPY) Jan 23 05:56:33 AM: Applying reduction SCS\n",
            "(CVXPY) Jan 23 05:56:39 AM: Finished problem compilation (took 1.915e+02 seconds).\n",
            "-------------------------------------------------------------------------------\n",
            "                                Numerical solver                               \n",
            "-------------------------------------------------------------------------------\n",
            "(CVXPY) Jan 23 05:56:39 AM: Invoking solver SCS  to obtain a solution.\n",
            "------------------------------------------------------------------\n",
            "\t       SCS v3.0.0 - Splitting Conic Solver\n",
            "\t(c) Brendan O'Donoghue, Stanford University, 2012\n",
            "------------------------------------------------------------------\n",
            "problem:  variables n: 45753, constraints m: 55084\n",
            "cones: \t  z: primal zero / dual free vars: 9331\n",
            "\t  s: psd vars: 45753, ssize: 1\n",
            "settings: eps_abs: 1.0e-05, eps_rel: 1.0e-05, eps_infeas: 1.0e-07\n",
            "\t  alpha: 1.50, scale: 1.00e-01, adaptive_scale: 1\n",
            "\t  max_iters: 100000, normalize: 1, warm_start: 0\n",
            "\t  acceleration_lookback: 10, acceleration_interval: 10\n",
            "lin-sys:  sparse-direct\n",
            "\t  nnz(A): 69587, nnz(P): 0\n",
            "------------------------------------------------------------------\n",
            " iter | pri res | dua res |   gap   |   obj   |  scale  | time (s)\n",
            "------------------------------------------------------------------\n",
            "     0| 2.72e+01  1.00e+00  3.41e+01 -1.01e+01  1.00e-01  2.93e-02 \n",
            "   250| 1.27e-01  7.16e-03  1.25e-01  1.24e+02  1.00e-01  3.66e+00 \n",
            "   500| 6.73e-02  4.78e-03  5.66e-02  1.47e+02  1.00e-01  7.32e+00 \n",
            "   750| 4.69e-02  4.59e-03  3.03e-02  1.55e+02  1.00e-01  1.10e+01 \n",
            "  1000| 7.51e-02  3.17e-03  2.16e-02  1.66e+02  3.15e-02  1.46e+01 \n",
            "  1250| 1.57e-01  9.53e-05  5.73e-03  1.75e+02  8.54e-03  1.82e+01 \n",
            "  1500| 2.13e-01  8.21e-05  3.38e-03  1.75e+02  8.54e-03  2.19e+01 \n",
            "  1750| 2.16e-01  2.55e-05  3.41e-03  1.77e+02  8.54e-03  2.55e+01 \n",
            "  2000| 1.96e-01  2.67e-05  3.15e-03  1.78e+02  8.54e-03  2.91e+01 \n",
            "  2250| 1.83e-01  3.05e-05  3.04e-03  1.79e+02  8.54e-03  3.29e+01 \n",
            "  2500| 1.68e-01  2.91e-05  2.91e-03  1.80e+02  8.54e-03  3.65e+01 \n",
            "  2750| 5.24e-02  6.69e-05  2.63e-03  1.81e+02  8.54e-03  4.02e+01 \n",
            "  3000| 5.43e-02  6.71e-05  2.39e-03  1.81e+02  8.54e-03  4.38e+01 \n",
            "  3250| 8.11e-02  5.82e-04  2.38e-03  1.83e+02  8.54e-03  4.74e+01 \n",
            "  3500| 5.31e-02  2.84e-05  2.14e-03  1.83e+02  8.54e-03  5.11e+01 \n",
            "  3750| 5.23e-02  2.25e-05  2.11e-03  1.84e+02  8.54e-03  5.47e+01 \n",
            "  4000| 5.18e-02  2.22e-05  2.06e-03  1.84e+02  8.54e-03  5.83e+01 \n",
            "  4250| 5.14e-02  2.18e-05  2.02e-03  1.84e+02  8.54e-03  6.19e+01 \n",
            "  4500| 5.09e-02  2.14e-05  1.97e-03  1.85e+02  8.54e-03  6.55e+01 \n",
            "  4750| 5.04e-02  2.11e-05  1.93e-03  1.85e+02  8.54e-03  6.91e+01 \n",
            "  5000| 5.11e-02  1.99e-05  1.52e-03  1.86e+02  8.54e-03  7.27e+01 \n",
            "  5250| 4.89e-02  1.78e-05  1.59e-03  1.86e+02  8.54e-03  7.63e+01 \n",
            "  5500| 4.07e+02  3.52e+00  7.13e-04  2.13e+02  8.54e-03  8.00e+01 \n",
            "  5750| 4.78e-02  1.73e-05  1.53e-03  1.87e+02  8.54e-03  8.37e+01 \n",
            "  6000| 4.71e-02  1.72e-05  1.51e-03  1.87e+02  8.54e-03  8.73e+01 \n",
            "  6250| 4.66e-02  1.69e-05  1.49e-03  1.87e+02  8.54e-03  9.11e+01 \n",
            "  6500| 4.61e-02  1.67e-05  1.46e-03  1.88e+02  8.54e-03  9.47e+01 \n",
            "  6750| 4.56e-02  1.65e-05  1.44e-03  1.88e+02  8.54e-03  9.83e+01 \n",
            "  7000| 4.52e-02  1.63e-05  1.41e-03  1.88e+02  8.54e-03  1.02e+02 \n",
            "  7250| 4.47e-02  1.61e-05  1.39e-03  1.88e+02  8.54e-03  1.06e+02 \n",
            "  7500| 4.42e-02  1.59e-05  1.37e-03  1.89e+02  8.54e-03  1.09e+02 \n",
            "  7750| 4.37e-02  1.57e-05  1.35e-03  1.89e+02  8.54e-03  1.13e+02 \n",
            "  8000| 4.33e-02  1.55e-05  1.33e-03  1.89e+02  8.54e-03  1.16e+02 \n",
            "  8250| 2.67e+03  2.31e+01  1.31e-02  2.47e+02  8.54e-03  1.20e+02 \n",
            "  8500| 4.24e-02  1.52e-05  1.29e-03  1.90e+02  8.54e-03  1.24e+02 \n",
            "  8750| 4.20e-02  1.50e-05  1.27e-03  1.90e+02  8.54e-03  1.27e+02 \n",
            "  9000| 4.16e-02  1.48e-05  1.25e-03  1.90e+02  8.54e-03  1.31e+02 \n",
            "  9250| 4.12e-02  1.47e-05  1.18e-03  1.90e+02  8.54e-03  1.35e+02 \n",
            "  9500| 4.07e-02  1.45e-05  1.22e-03  1.91e+02  8.54e-03  1.38e+02 \n",
            "  9750| 4.03e-02  1.44e-05  1.20e-03  1.91e+02  8.54e-03  1.42e+02 \n",
            " 10000| 3.99e-02  1.42e-05  1.18e-03  1.91e+02  8.54e-03  1.45e+02 \n",
            " 10250| 3.96e-02  1.40e-05  1.17e-03  1.91e+02  8.54e-03  1.49e+02 \n",
            " 10500| 3.92e-02  1.39e-05  1.15e-03  1.91e+02  8.54e-03  1.53e+02 \n",
            " 10750| 3.88e-02  1.37e-05  1.13e-03  1.92e+02  8.54e-03  1.56e+02 \n",
            " 11000| 1.23e+00  1.06e-02  1.22e-02  1.91e+02  8.54e-03  1.60e+02 \n",
            " 11250| 3.81e-02  1.34e-05  1.10e-03  1.92e+02  8.54e-03  1.63e+02 \n",
            " 11500| 3.77e-02  1.33e-05  1.09e-03  1.92e+02  8.54e-03  1.67e+02 \n",
            " 11750| 3.74e-02  1.32e-05  1.07e-03  1.92e+02  8.54e-03  1.71e+02 \n",
            " 12000| 3.70e-02  1.30e-05  1.06e-03  1.93e+02  8.54e-03  1.74e+02 \n",
            " 12250| 3.67e-02  1.29e-05  1.05e-03  1.93e+02  8.54e-03  1.78e+02 \n",
            " 12500| 3.64e-02  1.27e-05  1.03e-03  1.93e+02  8.54e-03  1.82e+02 \n",
            " 12750| 3.60e-02  1.26e-05  1.02e-03  1.93e+02  8.54e-03  1.85e+02 \n",
            " 13000| 3.57e-02  1.25e-05  1.01e-03  1.93e+02  8.54e-03  1.89e+02 \n",
            " 13250| 3.54e-02  1.24e-05  9.96e-04  1.93e+02  8.54e-03  1.92e+02 \n",
            " 13500| 3.51e-02  1.22e-05  9.84e-04  1.94e+02  8.54e-03  1.96e+02 \n",
            " 13750| 1.39e+02  1.21e+00  4.21e-03  2.00e+02  8.54e-03  2.00e+02 \n",
            " 14000| 3.45e-02  1.20e-05  9.61e-04  1.94e+02  8.54e-03  2.03e+02 \n",
            " 14250| 3.42e-02  1.19e-05  9.47e-04  1.94e+02  8.54e-03  2.07e+02 \n",
            " 14500| 3.39e-02  1.18e-05  9.36e-04  1.94e+02  8.54e-03  2.11e+02 \n",
            " 14750| 3.36e-02  1.17e-05  9.25e-04  1.94e+02  8.54e-03  2.15e+02 \n",
            " 15000| 3.33e-02  1.15e-05  9.14e-04  1.94e+02  8.54e-03  2.18e+02 \n",
            " 15250| 3.30e-02  1.14e-05  9.04e-04  1.95e+02  8.54e-03  2.22e+02 \n",
            " 15500| 3.28e-02  1.13e-05  8.91e-04  1.95e+02  8.54e-03  2.26e+02 \n",
            " 15750| 3.25e-02  1.12e-05  8.81e-04  1.95e+02  8.54e-03  2.29e+02 \n",
            " 16000| 3.22e-02  1.11e-05  8.73e-04  1.95e+02  8.54e-03  2.33e+02 \n",
            " 16250| 3.19e-02  1.10e-05  8.63e-04  1.95e+02  8.54e-03  2.37e+02 \n",
            " 16500| 8.17e+00  7.06e-02  2.04e-02  1.85e+02  8.54e-03  2.40e+02 \n",
            " 16750| 3.14e-02  1.08e-05  8.43e-04  1.95e+02  8.54e-03  2.44e+02 \n",
            " 17000| 3.12e-02  1.07e-05  8.35e-04  1.96e+02  8.54e-03  2.48e+02 \n",
            " 17250| 3.09e-02  1.06e-05  8.27e-04  1.96e+02  8.54e-03  2.51e+02 \n",
            " 17500| 3.07e-02  1.05e-05  8.17e-04  1.96e+02  8.54e-03  2.55e+02 \n",
            " 17750| 3.04e-02  1.04e-05  8.08e-04  1.96e+02  8.54e-03  2.59e+02 \n",
            " 18000| 3.02e-02  1.03e-05  7.99e-04  1.96e+02  8.54e-03  2.62e+02 \n",
            " 18250| 2.99e-02  1.02e-05  7.91e-04  1.96e+02  8.54e-03  2.66e+02 \n",
            " 18500| 2.97e-02  1.02e-05  7.83e-04  1.96e+02  8.54e-03  2.70e+02 \n",
            " 18750| 2.95e-02  1.00e-05  7.74e-04  1.96e+02  8.54e-03  2.73e+02 \n",
            " 19000| 2.92e-02  9.96e-06  7.65e-04  1.96e+02  8.54e-03  2.77e+02 \n",
            " 19250| 3.01e+02  2.61e+00  1.79e-03  2.00e+02  8.54e-03  2.81e+02 \n",
            " 19500| 2.88e-02  9.80e-06  7.50e-04  1.97e+02  8.54e-03  2.84e+02 \n",
            " 19750| 2.86e-02  9.69e-06  7.43e-04  1.97e+02  8.54e-03  2.88e+02 \n",
            " 20000| 2.94e-02  1.07e-05  6.22e-04  1.97e+02  8.54e-03  2.91e+02 \n",
            " 20250| 1.93e-02  1.84e-06  1.47e-04  1.97e+02  8.54e-03  2.95e+02 \n",
            " 20500| 1.95e-02  2.90e-06  1.38e-04  1.97e+02  8.54e-03  2.99e+02 \n",
            " 20750| 1.93e-02  1.94e-06  1.39e-04  1.97e+02  8.54e-03  3.02e+02 \n",
            " 21000| 1.91e-02  1.89e-06  1.35e-04  1.97e+02  8.54e-03  3.06e+02 \n",
            " 21250| 1.89e-02  1.89e-06  1.36e-04  1.97e+02  8.54e-03  3.10e+02 \n",
            " 21500| 1.87e-02  1.87e-06  1.35e-04  1.97e+02  8.54e-03  3.13e+02 \n",
            " 21750| 1.85e-02  1.85e-06  1.33e-04  1.97e+02  8.54e-03  3.17e+02 \n",
            " 22000| 1.83e-02  1.83e-06  1.31e-04  1.97e+02  8.54e-03  3.21e+02 \n",
            " 22250| 1.81e-02  1.82e-06  1.31e-04  1.97e+02  8.54e-03  3.24e+02 \n",
            " 22500| 1.40e-01  7.84e-04  4.33e-02  1.97e+02  8.54e-03  3.28e+02 \n",
            " 22750| 1.78e-02  1.76e-06  1.26e-04  1.97e+02  8.54e-03  3.32e+02 \n",
            " 23000| 1.76e-02  1.75e-06  1.24e-04  1.97e+02  8.54e-03  3.36e+02 \n",
            " 23250| 1.74e-02  1.74e-06  1.23e-04  1.97e+02  8.54e-03  3.39e+02 \n",
            " 23500| 1.72e-02  1.73e-06  1.23e-04  1.97e+02  8.54e-03  3.43e+02 \n",
            " 23750| 1.71e-02  1.73e-06  1.21e-04  1.97e+02  8.54e-03  3.47e+02 \n",
            " 24000| 1.69e-02  1.70e-06  1.21e-04  1.97e+02  8.54e-03  3.50e+02 \n",
            " 24250| 1.67e-02  1.68e-06  1.20e-04  1.97e+02  8.54e-03  3.54e+02 \n",
            " 24500| 1.66e-02  1.67e-06  1.19e-04  1.97e+02  8.54e-03  3.58e+02 \n",
            " 24750| 1.64e-02  1.64e-06  1.16e-04  1.97e+02  8.54e-03  3.61e+02 \n",
            " 25000| 1.62e-02  1.62e-06  1.16e-04  1.97e+02  8.54e-03  3.65e+02 \n",
            " 25250| 2.66e+00  1.62e-02  3.91e-03  1.98e+02  8.54e-03  3.69e+02 \n",
            " 25500| 1.59e-02  1.61e-06  1.15e-04  1.97e+02  8.54e-03  3.72e+02 \n",
            " 25750| 1.58e-02  1.58e-06  1.13e-04  1.97e+02  8.54e-03  3.76e+02 \n",
            " 26000| 1.56e-02  1.57e-06  1.13e-04  1.97e+02  8.54e-03  3.80e+02 \n",
            " 26250| 1.55e-02  1.54e-06  1.10e-04  1.97e+02  8.54e-03  3.84e+02 \n",
            " 26500| 1.53e-02  1.54e-06  1.08e-04  1.97e+02  8.54e-03  3.87e+02 \n",
            " 26750| 1.52e-02  1.53e-06  1.07e-04  1.97e+02  8.54e-03  3.91e+02 \n",
            " 27000| 1.47e-02  1.49e-05  3.06e-04  1.97e+02  2.70e-02  3.95e+02 \n",
            " 27250| 1.43e-02  1.44e-05  2.90e-04  1.97e+02  2.70e-02  3.98e+02 \n",
            " 27500| 1.38e-02  1.40e-05  2.95e-04  1.97e+02  2.70e-02  4.02e+02 \n",
            " 27750| 1.34e-02  1.36e-05  2.94e-04  1.97e+02  2.70e-02  4.06e+02 \n",
            " 28000| 1.30e-02  1.32e-05  2.90e-04  1.97e+02  2.70e-02  4.09e+02 \n",
            " 28250| 1.26e-02  1.28e-05  2.82e-04  1.97e+02  2.70e-02  4.13e+02 \n",
            " 28500| 1.22e-02  1.25e-05  2.73e-04  1.97e+02  2.70e-02  4.17e+02 \n",
            " 28750| 7.89e-01  1.52e-02  2.64e-04  1.98e+02  2.70e-02  4.20e+02 \n",
            " 29000| 1.15e-02  1.18e-05  2.57e-04  1.97e+02  2.70e-02  4.24e+02 \n",
            " 29250| 1.12e-02  1.14e-05  2.49e-04  1.97e+02  2.70e-02  4.28e+02 \n",
            " 29500| 1.09e-02  1.11e-05  2.42e-04  1.97e+02  2.70e-02  4.31e+02 \n",
            " 29750| 1.05e-02  1.08e-05  2.34e-04  1.97e+02  2.70e-02  4.35e+02 \n",
            " 30000| 1.02e-02  1.05e-05  2.28e-04  1.97e+02  2.70e-02  4.39e+02 \n",
            " 30250| 9.93e-03  1.02e-05  2.20e-04  1.97e+02  2.70e-02  4.42e+02 \n",
            " 30500| 9.65e-03  9.92e-06  2.14e-04  1.97e+02  2.70e-02  4.46e+02 \n",
            " 30750| 9.37e-03  9.64e-06  2.07e-04  1.97e+02  2.70e-02  4.49e+02 \n",
            " 31000| 9.10e-03  9.36e-06  2.01e-04  1.97e+02  2.70e-02  4.53e+02 \n",
            " 31250| 8.84e-03  9.11e-06  1.95e-04  1.97e+02  2.70e-02  4.57e+02 \n",
            " 31500| 4.22e-01  8.14e-03  2.71e-04  1.98e+02  2.70e-02  4.60e+02 \n",
            " 31750| 8.33e-03  8.62e-06  1.84e-04  1.97e+02  2.70e-02  4.64e+02 \n",
            " 32000| 8.10e-03  8.36e-06  1.79e-04  1.97e+02  2.70e-02  4.68e+02 \n",
            " 32250| 7.87e-03  8.14e-06  1.73e-04  1.97e+02  2.70e-02  4.72e+02 \n",
            " 32500| 7.64e-03  7.92e-06  1.69e-04  1.97e+02  2.70e-02  4.75e+02 \n",
            " 32750| 7.42e-03  7.69e-06  1.64e-04  1.97e+02  2.70e-02  4.79e+02 \n",
            " 33000| 7.21e-03  7.48e-06  1.59e-04  1.97e+02  2.70e-02  4.82e+02 \n",
            " 33250| 7.01e-03  7.27e-06  1.55e-04  1.97e+02  2.70e-02  4.86e+02 \n",
            " 33500| 6.81e-03  7.07e-06  1.50e-04  1.97e+02  2.70e-02  4.90e+02 \n",
            " 33750| 6.62e-03  6.89e-06  1.46e-04  1.97e+02  2.70e-02  4.93e+02 \n",
            " 34000| 6.43e-03  6.69e-06  1.42e-04  1.97e+02  2.70e-02  4.97e+02 \n",
            " 34250| 2.70e-01  5.20e-03  6.19e-05  1.98e+02  2.70e-02  5.00e+02 \n",
            " 34500| 6.08e-03  6.33e-06  1.34e-04  1.97e+02  2.70e-02  5.04e+02 \n",
            " 34750| 5.91e-03  6.15e-06  1.30e-04  1.97e+02  2.70e-02  5.08e+02 \n",
            " 35000| 5.74e-03  5.98e-06  1.26e-04  1.97e+02  2.70e-02  5.11e+02 \n",
            " 35250| 5.58e-03  5.82e-06  1.23e-04  1.98e+02  2.70e-02  5.15e+02 \n",
            " 35500| 5.43e-03  5.66e-06  1.19e-04  1.98e+02  2.70e-02  5.19e+02 \n",
            " 35750| 5.28e-03  5.51e-06  1.16e-04  1.98e+02  2.70e-02  5.22e+02 \n",
            " 36000| 5.13e-03  5.36e-06  1.13e-04  1.98e+02  2.70e-02  5.26e+02 \n",
            " 36250| 4.99e-03  5.21e-06  1.10e-04  1.98e+02  2.70e-02  5.30e+02 \n",
            " 36500| 4.85e-03  5.07e-06  1.07e-04  1.98e+02  2.70e-02  5.33e+02 \n",
            " 36750| 4.72e-03  4.94e-06  1.04e-04  1.98e+02  2.70e-02  5.37e+02 \n",
            " 37000| 1.13e-01  2.17e-03  1.89e-04  1.98e+02  2.70e-02  5.40e+02 \n",
            " 37250| 4.46e-03  4.68e-06  9.73e-05  1.98e+02  2.70e-02  5.44e+02 \n",
            " 37500| 4.34e-03  4.54e-06  9.50e-05  1.98e+02  2.70e-02  5.48e+02 \n",
            " 37750| 4.22e-03  4.42e-06  9.26e-05  1.98e+02  2.70e-02  5.51e+02 \n",
            " 38000| 4.10e-03  4.30e-06  9.02e-05  1.98e+02  2.70e-02  5.55e+02 \n",
            " 38250| 3.99e-03  4.18e-06  8.78e-05  1.98e+02  2.70e-02  5.58e+02 \n",
            " 38500| 3.88e-03  4.07e-06  8.50e-05  1.98e+02  2.70e-02  5.62e+02 \n",
            " 38750| 3.78e-03  3.96e-06  8.23e-05  1.98e+02  2.70e-02  5.66e+02 \n",
            " 39000| 3.67e-03  3.86e-06  8.08e-05  1.98e+02  2.70e-02  5.70e+02 \n",
            "------------------------------------------------------------------\n",
            "status:  solved\n",
            "timings: total: 5.70e+02s = setup: 1.32e-01s + solve: 5.70e+02s\n",
            "\t lin-sys: 7.80e+01s, cones: 4.42e+02s, accel: 8.97e+00s\n",
            "------------------------------------------------------------------\n",
            "objective = 197.538705\n",
            "------------------------------------------------------------------\n",
            "-------------------------------------------------------------------------------\n",
            "                                    Summary                                    \n",
            "-------------------------------------------------------------------------------\n",
            "(CVXPY) Jan 23 06:06:09 AM: Problem status: optimal\n",
            "(CVXPY) Jan 23 06:06:09 AM: Optimal value: 1.975e+02\n",
            "(CVXPY) Jan 23 06:06:09 AM: Compilation took 1.915e+02 seconds\n",
            "(CVXPY) Jan 23 06:06:09 AM: Solver (including time spent in interface) took 5.698e+02 seconds\n",
            "The optimal value is 197.53866422999994\n",
            "A solution X is\n",
            "[[ 197.53866423    0.            0.         ...    0.\n",
            "     0.            0.        ]\n",
            " [   0.          366.29342919 -167.47861172 ...    0.\n",
            "     0.            0.        ]\n",
            " [   0.         -167.47861172   92.63853734 ...    0.\n",
            "     0.            0.        ]\n",
            " ...\n",
            " [   0.            0.            0.         ...    0.99307456\n",
            "     0.56950203    0.56950203]\n",
            " [   0.            0.            0.         ...    0.56950203\n",
            "     0.99307456    0.56950203]\n",
            " [   0.            0.            0.         ...    0.56950203\n",
            "     0.56950203    0.99307456]]\n"
          ]
        }
      ]
    },
    {
      "cell_type": "code",
      "source": [
        ""
      ],
      "metadata": {
        "id": "gfj9CiRofwra"
      },
      "execution_count": null,
      "outputs": []
    }
  ]
}
